{
 "cells": [
  {
   "cell_type": "markdown",
   "id": "threaded-asbestos",
   "metadata": {},
   "source": [
    "# Challenge 2: Count Commits\n",
    "\n",
    "Count how many commits were made in the past week.\n",
    "\n",
    "Obtain all the commits made in the past week via API, which is a JSON array that contains multiple commit objects.\n",
    "\n",
    "Count how many commit objects are contained in the array."
   ]
  },
  {
   "cell_type": "markdown",
   "id": "norwegian-praise",
   "metadata": {},
   "source": [
    "⚠️ **Remember to limit your output before submission**."
   ]
  },
  {
   "cell_type": "code",
   "execution_count": 1,
   "id": "developing-printing",
   "metadata": {},
   "outputs": [
    {
     "ename": "ModuleNotFoundError",
     "evalue": "No module named 'dotenv'",
     "output_type": "error",
     "traceback": [
      "\u001b[0;31m---------------------------------------------------------------------------\u001b[0m",
      "\u001b[0;31mModuleNotFoundError\u001b[0m                       Traceback (most recent call last)",
      "Cell \u001b[0;32mIn[1], line 5\u001b[0m\n\u001b[1;32m      3\u001b[0m \u001b[38;5;28;01mimport\u001b[39;00m \u001b[38;5;21;01mjson\u001b[39;00m\n\u001b[1;32m      4\u001b[0m \u001b[38;5;28;01mimport\u001b[39;00m \u001b[38;5;21;01mos\u001b[39;00m\n\u001b[0;32m----> 5\u001b[0m \u001b[38;5;28;01mfrom\u001b[39;00m \u001b[38;5;21;01mdotenv\u001b[39;00m \u001b[38;5;28;01mimport\u001b[39;00m load_dotenv\n",
      "\u001b[0;31mModuleNotFoundError\u001b[0m: No module named 'dotenv'"
     ]
    }
   ],
   "source": [
    "import requests as req\n",
    "from datetime import datetime, timedelta\n",
    "import json\n",
    "import os\n",
    "from dotenv import load_dotenv\n"
   ]
  },
  {
   "cell_type": "code",
   "execution_count": 2,
   "id": "12fadb8c",
   "metadata": {},
   "outputs": [
    {
     "data": {
      "text/plain": [
       "<Response [200]>"
      ]
     },
     "execution_count": 2,
     "metadata": {},
     "output_type": "execute_result"
    }
   ],
   "source": [
    "with open('password.txt', 'r') as file:\n",
    "    token = file.read().strip()\n",
    "    \n",
    "headers = {\"Authorization\": f\"token {token}\"}\n",
    "\n",
    "\n",
    "url_mirepo = \"https://api.github.com/users/SaraPazo/repos\"\n",
    "\n",
    "response = req.get(url_mirepo, headers=headers)\n",
    "response"
   ]
  },
  {
   "cell_type": "markdown",
   "id": "0ad9dddb",
   "metadata": {},
   "source": [
    "Cuente cuántas confirmaciones se realizaron la semana pasada.\n",
    "\n",
    "Obtenga todas las confirmaciones realizadas la semana pasada a través de API, que es una matriz JSON que contiene múltiples objetos de confirmación.\n",
    "\n",
    "Cuente cuántos objetos de confirmación hay en la matriz."
   ]
  },
  {
   "cell_type": "code",
   "execution_count": 15,
   "id": "8e1b609e",
   "metadata": {},
   "outputs": [
    {
     "data": {
      "text/plain": [
       "<Response [200]>"
      ]
     },
     "execution_count": 15,
     "metadata": {},
     "output_type": "execute_result"
    }
   ],
   "source": [
    "res = req.get(url_mirepo, headers=headers)\n",
    "res"
   ]
  },
  {
   "cell_type": "code",
   "execution_count": 16,
   "id": "3cde7813",
   "metadata": {},
   "outputs": [],
   "source": [
    "resp = res.json()"
   ]
  },
  {
   "cell_type": "code",
   "execution_count": 17,
   "id": "77d962c3",
   "metadata": {},
   "outputs": [
    {
     "data": {
      "text/plain": [
       "datetime.datetime(2023, 10, 26, 16, 49, 32, 995524)"
      ]
     },
     "execution_count": 17,
     "metadata": {},
     "output_type": "execute_result"
    }
   ],
   "source": [
    "one_week_ago = datetime.now() - timedelta(weeks=1)\n",
    "one_week_ago"
   ]
  },
  {
   "cell_type": "code",
   "execution_count": 18,
   "id": "a1e8f633",
   "metadata": {},
   "outputs": [
    {
     "data": {
      "text/plain": [
       "'2023-10-26T16:49:32Z'"
      ]
     },
     "execution_count": 18,
     "metadata": {},
     "output_type": "execute_result"
    }
   ],
   "source": [
    "since_date = one_week_ago.strftime(\"%Y-%m-%dT%H:%M:%SZ\")\n",
    "since_date"
   ]
  },
  {
   "cell_type": "code",
   "execution_count": 19,
   "id": "223549b0",
   "metadata": {},
   "outputs": [
    {
     "data": {
      "text/plain": [
       "{'since': '2023-10-26T16:49:32Z'}"
      ]
     },
     "execution_count": 19,
     "metadata": {},
     "output_type": "execute_result"
    }
   ],
   "source": [
    "since_dict = {\"since\": since_date}\n",
    "since_dict"
   ]
  },
  {
   "cell_type": "code",
   "execution_count": 20,
   "id": "d59dc9a0",
   "metadata": {},
   "outputs": [
    {
     "data": {
      "text/plain": [
       "<Response [200]>"
      ]
     },
     "execution_count": 20,
     "metadata": {},
     "output_type": "execute_result"
    }
   ],
   "source": [
    "# Make a GET request to the GitHub API\n",
    "\n",
    "response = req.get(url_mirepo, headers=headers, params = since_dict)\n",
    "response"
   ]
  },
  {
   "cell_type": "code",
   "execution_count": 21,
   "id": "44393f39",
   "metadata": {},
   "outputs": [
    {
     "name": "stdout",
     "output_type": "stream",
     "text": [
      "Request was successful.\n",
      "Item: {'id': 711966053, 'node_id': 'R_kgDOKm-9ZQ', 'name': '4.1-lab_api_scavengers_game', 'full_name': 'SaraPazo/4.1-lab_api_scavengers_game', 'private': False, 'owner': {'login': 'SaraPazo', 'id': 145450939, 'node_id': 'U_kgDOCKtnuw', 'avatar_url': 'https://avatars.githubusercontent.com/u/145450939?v=4', 'gravatar_id': '', 'url': 'https://api.github.com/users/SaraPazo', 'html_url': 'https://github.com/SaraPazo', 'followers_url': 'https://api.github.com/users/SaraPazo/followers', 'following_url': 'https://api.github.com/users/SaraPazo/following{/other_user}', 'gists_url': 'https://api.github.com/users/SaraPazo/gists{/gist_id}', 'starred_url': 'https://api.github.com/users/SaraPazo/starred{/owner}{/repo}', 'subscriptions_url': 'https://api.github.com/users/SaraPazo/subscriptions', 'organizations_url': 'https://api.github.com/users/SaraPazo/orgs', 'repos_url': 'https://api.github.com/users/SaraPazo/repos', 'events_url': 'https://api.github.com/users/SaraPazo/events{/privacy}', 'received_events_url': 'https://api.github.com/users/SaraPazo/received_events', 'type': 'User', 'site_admin': False}, 'html_url': 'https://github.com/SaraPazo/4.1-lab_api_scavengers_game', 'description': None, 'fork': True, 'url': 'https://api.github.com/repos/SaraPazo/4.1-lab_api_scavengers_game', 'forks_url': 'https://api.github.com/repos/SaraPazo/4.1-lab_api_scavengers_game/forks', 'keys_url': 'https://api.github.com/repos/SaraPazo/4.1-lab_api_scavengers_game/keys{/key_id}', 'collaborators_url': 'https://api.github.com/repos/SaraPazo/4.1-lab_api_scavengers_game/collaborators{/collaborator}', 'teams_url': 'https://api.github.com/repos/SaraPazo/4.1-lab_api_scavengers_game/teams', 'hooks_url': 'https://api.github.com/repos/SaraPazo/4.1-lab_api_scavengers_game/hooks', 'issue_events_url': 'https://api.github.com/repos/SaraPazo/4.1-lab_api_scavengers_game/issues/events{/number}', 'events_url': 'https://api.github.com/repos/SaraPazo/4.1-lab_api_scavengers_game/events', 'assignees_url': 'https://api.github.com/repos/SaraPazo/4.1-lab_api_scavengers_game/assignees{/user}', 'branches_url': 'https://api.github.com/repos/SaraPazo/4.1-lab_api_scavengers_game/branches{/branch}', 'tags_url': 'https://api.github.com/repos/SaraPazo/4.1-lab_api_scavengers_game/tags', 'blobs_url': 'https://api.github.com/repos/SaraPazo/4.1-lab_api_scavengers_game/git/blobs{/sha}', 'git_tags_url': 'https://api.github.com/repos/SaraPazo/4.1-lab_api_scavengers_game/git/tags{/sha}', 'git_refs_url': 'https://api.github.com/repos/SaraPazo/4.1-lab_api_scavengers_game/git/refs{/sha}', 'trees_url': 'https://api.github.com/repos/SaraPazo/4.1-lab_api_scavengers_game/git/trees{/sha}', 'statuses_url': 'https://api.github.com/repos/SaraPazo/4.1-lab_api_scavengers_game/statuses/{sha}', 'languages_url': 'https://api.github.com/repos/SaraPazo/4.1-lab_api_scavengers_game/languages', 'stargazers_url': 'https://api.github.com/repos/SaraPazo/4.1-lab_api_scavengers_game/stargazers', 'contributors_url': 'https://api.github.com/repos/SaraPazo/4.1-lab_api_scavengers_game/contributors', 'subscribers_url': 'https://api.github.com/repos/SaraPazo/4.1-lab_api_scavengers_game/subscribers', 'subscription_url': 'https://api.github.com/repos/SaraPazo/4.1-lab_api_scavengers_game/subscription', 'commits_url': 'https://api.github.com/repos/SaraPazo/4.1-lab_api_scavengers_game/commits{/sha}', 'git_commits_url': 'https://api.github.com/repos/SaraPazo/4.1-lab_api_scavengers_game/git/commits{/sha}', 'comments_url': 'https://api.github.com/repos/SaraPazo/4.1-lab_api_scavengers_game/comments{/number}', 'issue_comment_url': 'https://api.github.com/repos/SaraPazo/4.1-lab_api_scavengers_game/issues/comments{/number}', 'contents_url': 'https://api.github.com/repos/SaraPazo/4.1-lab_api_scavengers_game/contents/{+path}', 'compare_url': 'https://api.github.com/repos/SaraPazo/4.1-lab_api_scavengers_game/compare/{base}...{head}', 'merges_url': 'https://api.github.com/repos/SaraPazo/4.1-lab_api_scavengers_game/merges', 'archive_url': 'https://api.github.com/repos/SaraPazo/4.1-lab_api_scavengers_game/{archive_format}{/ref}', 'downloads_url': 'https://api.github.com/repos/SaraPazo/4.1-lab_api_scavengers_game/downloads', 'issues_url': 'https://api.github.com/repos/SaraPazo/4.1-lab_api_scavengers_game/issues{/number}', 'pulls_url': 'https://api.github.com/repos/SaraPazo/4.1-lab_api_scavengers_game/pulls{/number}', 'milestones_url': 'https://api.github.com/repos/SaraPazo/4.1-lab_api_scavengers_game/milestones{/number}', 'notifications_url': 'https://api.github.com/repos/SaraPazo/4.1-lab_api_scavengers_game/notifications{?since,all,participating}', 'labels_url': 'https://api.github.com/repos/SaraPazo/4.1-lab_api_scavengers_game/labels{/name}', 'releases_url': 'https://api.github.com/repos/SaraPazo/4.1-lab_api_scavengers_game/releases{/id}', 'deployments_url': 'https://api.github.com/repos/SaraPazo/4.1-lab_api_scavengers_game/deployments', 'created_at': '2023-10-30T14:28:46Z', 'updated_at': '2023-10-30T14:33:13Z', 'pushed_at': '2023-10-30T18:26:19Z', 'git_url': 'git://github.com/SaraPazo/4.1-lab_api_scavengers_game.git', 'ssh_url': 'git@github.com:SaraPazo/4.1-lab_api_scavengers_game.git', 'clone_url': 'https://github.com/SaraPazo/4.1-lab_api_scavengers_game.git', 'svn_url': 'https://github.com/SaraPazo/4.1-lab_api_scavengers_game', 'homepage': 'https://github.com', 'size': 106, 'stargazers_count': 0, 'watchers_count': 0, 'language': 'Jupyter Notebook', 'has_issues': False, 'has_projects': True, 'has_downloads': True, 'has_wiki': False, 'has_pages': False, 'has_discussions': False, 'forks_count': 0, 'mirror_url': None, 'archived': False, 'disabled': False, 'open_issues_count': 0, 'license': None, 'allow_forking': True, 'is_template': False, 'web_commit_signoff_required': False, 'topics': [], 'visibility': 'public', 'forks': 0, 'open_issues': 0, 'watchers': 0, 'default_branch': 'main', 'permissions': {'admin': True, 'maintain': True, 'push': True, 'triage': True, 'pull': True}}\n",
      "Item: {'id': 712415220, 'node_id': 'R_kgDOKnaX9A', 'name': '4.2-lab_web_scraping', 'full_name': 'SaraPazo/4.2-lab_web_scraping', 'private': False, 'owner': {'login': 'SaraPazo', 'id': 145450939, 'node_id': 'U_kgDOCKtnuw', 'avatar_url': 'https://avatars.githubusercontent.com/u/145450939?v=4', 'gravatar_id': '', 'url': 'https://api.github.com/users/SaraPazo', 'html_url': 'https://github.com/SaraPazo', 'followers_url': 'https://api.github.com/users/SaraPazo/followers', 'following_url': 'https://api.github.com/users/SaraPazo/following{/other_user}', 'gists_url': 'https://api.github.com/users/SaraPazo/gists{/gist_id}', 'starred_url': 'https://api.github.com/users/SaraPazo/starred{/owner}{/repo}', 'subscriptions_url': 'https://api.github.com/users/SaraPazo/subscriptions', 'organizations_url': 'https://api.github.com/users/SaraPazo/orgs', 'repos_url': 'https://api.github.com/users/SaraPazo/repos', 'events_url': 'https://api.github.com/users/SaraPazo/events{/privacy}', 'received_events_url': 'https://api.github.com/users/SaraPazo/received_events', 'type': 'User', 'site_admin': False}, 'html_url': 'https://github.com/SaraPazo/4.2-lab_web_scraping', 'description': None, 'fork': True, 'url': 'https://api.github.com/repos/SaraPazo/4.2-lab_web_scraping', 'forks_url': 'https://api.github.com/repos/SaraPazo/4.2-lab_web_scraping/forks', 'keys_url': 'https://api.github.com/repos/SaraPazo/4.2-lab_web_scraping/keys{/key_id}', 'collaborators_url': 'https://api.github.com/repos/SaraPazo/4.2-lab_web_scraping/collaborators{/collaborator}', 'teams_url': 'https://api.github.com/repos/SaraPazo/4.2-lab_web_scraping/teams', 'hooks_url': 'https://api.github.com/repos/SaraPazo/4.2-lab_web_scraping/hooks', 'issue_events_url': 'https://api.github.com/repos/SaraPazo/4.2-lab_web_scraping/issues/events{/number}', 'events_url': 'https://api.github.com/repos/SaraPazo/4.2-lab_web_scraping/events', 'assignees_url': 'https://api.github.com/repos/SaraPazo/4.2-lab_web_scraping/assignees{/user}', 'branches_url': 'https://api.github.com/repos/SaraPazo/4.2-lab_web_scraping/branches{/branch}', 'tags_url': 'https://api.github.com/repos/SaraPazo/4.2-lab_web_scraping/tags', 'blobs_url': 'https://api.github.com/repos/SaraPazo/4.2-lab_web_scraping/git/blobs{/sha}', 'git_tags_url': 'https://api.github.com/repos/SaraPazo/4.2-lab_web_scraping/git/tags{/sha}', 'git_refs_url': 'https://api.github.com/repos/SaraPazo/4.2-lab_web_scraping/git/refs{/sha}', 'trees_url': 'https://api.github.com/repos/SaraPazo/4.2-lab_web_scraping/git/trees{/sha}', 'statuses_url': 'https://api.github.com/repos/SaraPazo/4.2-lab_web_scraping/statuses/{sha}', 'languages_url': 'https://api.github.com/repos/SaraPazo/4.2-lab_web_scraping/languages', 'stargazers_url': 'https://api.github.com/repos/SaraPazo/4.2-lab_web_scraping/stargazers', 'contributors_url': 'https://api.github.com/repos/SaraPazo/4.2-lab_web_scraping/contributors', 'subscribers_url': 'https://api.github.com/repos/SaraPazo/4.2-lab_web_scraping/subscribers', 'subscription_url': 'https://api.github.com/repos/SaraPazo/4.2-lab_web_scraping/subscription', 'commits_url': 'https://api.github.com/repos/SaraPazo/4.2-lab_web_scraping/commits{/sha}', 'git_commits_url': 'https://api.github.com/repos/SaraPazo/4.2-lab_web_scraping/git/commits{/sha}', 'comments_url': 'https://api.github.com/repos/SaraPazo/4.2-lab_web_scraping/comments{/number}', 'issue_comment_url': 'https://api.github.com/repos/SaraPazo/4.2-lab_web_scraping/issues/comments{/number}', 'contents_url': 'https://api.github.com/repos/SaraPazo/4.2-lab_web_scraping/contents/{+path}', 'compare_url': 'https://api.github.com/repos/SaraPazo/4.2-lab_web_scraping/compare/{base}...{head}', 'merges_url': 'https://api.github.com/repos/SaraPazo/4.2-lab_web_scraping/merges', 'archive_url': 'https://api.github.com/repos/SaraPazo/4.2-lab_web_scraping/{archive_format}{/ref}', 'downloads_url': 'https://api.github.com/repos/SaraPazo/4.2-lab_web_scraping/downloads', 'issues_url': 'https://api.github.com/repos/SaraPazo/4.2-lab_web_scraping/issues{/number}', 'pulls_url': 'https://api.github.com/repos/SaraPazo/4.2-lab_web_scraping/pulls{/number}', 'milestones_url': 'https://api.github.com/repos/SaraPazo/4.2-lab_web_scraping/milestones{/number}', 'notifications_url': 'https://api.github.com/repos/SaraPazo/4.2-lab_web_scraping/notifications{?since,all,participating}', 'labels_url': 'https://api.github.com/repos/SaraPazo/4.2-lab_web_scraping/labels{/name}', 'releases_url': 'https://api.github.com/repos/SaraPazo/4.2-lab_web_scraping/releases{/id}', 'deployments_url': 'https://api.github.com/repos/SaraPazo/4.2-lab_web_scraping/deployments', 'created_at': '2023-10-31T12:32:58Z', 'updated_at': '2023-10-31T12:36:22Z', 'pushed_at': '2023-11-01T17:54:40Z', 'git_url': 'git://github.com/SaraPazo/4.2-lab_web_scraping.git', 'ssh_url': 'git@github.com:SaraPazo/4.2-lab_web_scraping.git', 'clone_url': 'https://github.com/SaraPazo/4.2-lab_web_scraping.git', 'svn_url': 'https://github.com/SaraPazo/4.2-lab_web_scraping', 'homepage': 'https://github.com', 'size': 105, 'stargazers_count': 0, 'watchers_count': 0, 'language': 'Jupyter Notebook', 'has_issues': False, 'has_projects': True, 'has_downloads': True, 'has_wiki': False, 'has_pages': False, 'has_discussions': False, 'forks_count': 0, 'mirror_url': None, 'archived': False, 'disabled': False, 'open_issues_count': 0, 'license': None, 'allow_forking': True, 'is_template': False, 'web_commit_signoff_required': False, 'topics': [], 'visibility': 'public', 'forks': 0, 'open_issues': 0, 'watchers': 0, 'default_branch': 'main', 'permissions': {'admin': True, 'maintain': True, 'push': True, 'triage': True, 'pull': True}}\n",
      "Item: {'id': 712870785, 'node_id': 'R_kgDOKn2LgQ', 'name': '4.3-lab_web_scraping_selenium', 'full_name': 'SaraPazo/4.3-lab_web_scraping_selenium', 'private': False, 'owner': {'login': 'SaraPazo', 'id': 145450939, 'node_id': 'U_kgDOCKtnuw', 'avatar_url': 'https://avatars.githubusercontent.com/u/145450939?v=4', 'gravatar_id': '', 'url': 'https://api.github.com/users/SaraPazo', 'html_url': 'https://github.com/SaraPazo', 'followers_url': 'https://api.github.com/users/SaraPazo/followers', 'following_url': 'https://api.github.com/users/SaraPazo/following{/other_user}', 'gists_url': 'https://api.github.com/users/SaraPazo/gists{/gist_id}', 'starred_url': 'https://api.github.com/users/SaraPazo/starred{/owner}{/repo}', 'subscriptions_url': 'https://api.github.com/users/SaraPazo/subscriptions', 'organizations_url': 'https://api.github.com/users/SaraPazo/orgs', 'repos_url': 'https://api.github.com/users/SaraPazo/repos', 'events_url': 'https://api.github.com/users/SaraPazo/events{/privacy}', 'received_events_url': 'https://api.github.com/users/SaraPazo/received_events', 'type': 'User', 'site_admin': False}, 'html_url': 'https://github.com/SaraPazo/4.3-lab_web_scraping_selenium', 'description': None, 'fork': True, 'url': 'https://api.github.com/repos/SaraPazo/4.3-lab_web_scraping_selenium', 'forks_url': 'https://api.github.com/repos/SaraPazo/4.3-lab_web_scraping_selenium/forks', 'keys_url': 'https://api.github.com/repos/SaraPazo/4.3-lab_web_scraping_selenium/keys{/key_id}', 'collaborators_url': 'https://api.github.com/repos/SaraPazo/4.3-lab_web_scraping_selenium/collaborators{/collaborator}', 'teams_url': 'https://api.github.com/repos/SaraPazo/4.3-lab_web_scraping_selenium/teams', 'hooks_url': 'https://api.github.com/repos/SaraPazo/4.3-lab_web_scraping_selenium/hooks', 'issue_events_url': 'https://api.github.com/repos/SaraPazo/4.3-lab_web_scraping_selenium/issues/events{/number}', 'events_url': 'https://api.github.com/repos/SaraPazo/4.3-lab_web_scraping_selenium/events', 'assignees_url': 'https://api.github.com/repos/SaraPazo/4.3-lab_web_scraping_selenium/assignees{/user}', 'branches_url': 'https://api.github.com/repos/SaraPazo/4.3-lab_web_scraping_selenium/branches{/branch}', 'tags_url': 'https://api.github.com/repos/SaraPazo/4.3-lab_web_scraping_selenium/tags', 'blobs_url': 'https://api.github.com/repos/SaraPazo/4.3-lab_web_scraping_selenium/git/blobs{/sha}', 'git_tags_url': 'https://api.github.com/repos/SaraPazo/4.3-lab_web_scraping_selenium/git/tags{/sha}', 'git_refs_url': 'https://api.github.com/repos/SaraPazo/4.3-lab_web_scraping_selenium/git/refs{/sha}', 'trees_url': 'https://api.github.com/repos/SaraPazo/4.3-lab_web_scraping_selenium/git/trees{/sha}', 'statuses_url': 'https://api.github.com/repos/SaraPazo/4.3-lab_web_scraping_selenium/statuses/{sha}', 'languages_url': 'https://api.github.com/repos/SaraPazo/4.3-lab_web_scraping_selenium/languages', 'stargazers_url': 'https://api.github.com/repos/SaraPazo/4.3-lab_web_scraping_selenium/stargazers', 'contributors_url': 'https://api.github.com/repos/SaraPazo/4.3-lab_web_scraping_selenium/contributors', 'subscribers_url': 'https://api.github.com/repos/SaraPazo/4.3-lab_web_scraping_selenium/subscribers', 'subscription_url': 'https://api.github.com/repos/SaraPazo/4.3-lab_web_scraping_selenium/subscription', 'commits_url': 'https://api.github.com/repos/SaraPazo/4.3-lab_web_scraping_selenium/commits{/sha}', 'git_commits_url': 'https://api.github.com/repos/SaraPazo/4.3-lab_web_scraping_selenium/git/commits{/sha}', 'comments_url': 'https://api.github.com/repos/SaraPazo/4.3-lab_web_scraping_selenium/comments{/number}', 'issue_comment_url': 'https://api.github.com/repos/SaraPazo/4.3-lab_web_scraping_selenium/issues/comments{/number}', 'contents_url': 'https://api.github.com/repos/SaraPazo/4.3-lab_web_scraping_selenium/contents/{+path}', 'compare_url': 'https://api.github.com/repos/SaraPazo/4.3-lab_web_scraping_selenium/compare/{base}...{head}', 'merges_url': 'https://api.github.com/repos/SaraPazo/4.3-lab_web_scraping_selenium/merges', 'archive_url': 'https://api.github.com/repos/SaraPazo/4.3-lab_web_scraping_selenium/{archive_format}{/ref}', 'downloads_url': 'https://api.github.com/repos/SaraPazo/4.3-lab_web_scraping_selenium/downloads', 'issues_url': 'https://api.github.com/repos/SaraPazo/4.3-lab_web_scraping_selenium/issues{/number}', 'pulls_url': 'https://api.github.com/repos/SaraPazo/4.3-lab_web_scraping_selenium/pulls{/number}', 'milestones_url': 'https://api.github.com/repos/SaraPazo/4.3-lab_web_scraping_selenium/milestones{/number}', 'notifications_url': 'https://api.github.com/repos/SaraPazo/4.3-lab_web_scraping_selenium/notifications{?since,all,participating}', 'labels_url': 'https://api.github.com/repos/SaraPazo/4.3-lab_web_scraping_selenium/labels{/name}', 'releases_url': 'https://api.github.com/repos/SaraPazo/4.3-lab_web_scraping_selenium/releases{/id}', 'deployments_url': 'https://api.github.com/repos/SaraPazo/4.3-lab_web_scraping_selenium/deployments', 'created_at': '2023-11-01T11:24:40Z', 'updated_at': '2023-11-01T12:05:15Z', 'pushed_at': '2023-11-02T15:27:56Z', 'git_url': 'git://github.com/SaraPazo/4.3-lab_web_scraping_selenium.git', 'ssh_url': 'git@github.com:SaraPazo/4.3-lab_web_scraping_selenium.git', 'clone_url': 'https://github.com/SaraPazo/4.3-lab_web_scraping_selenium.git', 'svn_url': 'https://github.com/SaraPazo/4.3-lab_web_scraping_selenium', 'homepage': 'https://github.com', 'size': 8124, 'stargazers_count': 0, 'watchers_count': 0, 'language': 'Jupyter Notebook', 'has_issues': False, 'has_projects': True, 'has_downloads': True, 'has_wiki': False, 'has_pages': False, 'has_discussions': False, 'forks_count': 0, 'mirror_url': None, 'archived': False, 'disabled': False, 'open_issues_count': 0, 'license': None, 'allow_forking': True, 'is_template': False, 'web_commit_signoff_required': False, 'topics': [], 'visibility': 'public', 'forks': 0, 'open_issues': 0, 'watchers': 0, 'default_branch': 'main', 'permissions': {'admin': True, 'maintain': True, 'push': True, 'triage': True, 'pull': True}}\n",
      "Item: {'id': 710666094, 'node_id': 'R_kgDOKlvnbg', 'name': 'Project_SQL-', 'full_name': 'SaraPazo/Project_SQL-', 'private': False, 'owner': {'login': 'SaraPazo', 'id': 145450939, 'node_id': 'U_kgDOCKtnuw', 'avatar_url': 'https://avatars.githubusercontent.com/u/145450939?v=4', 'gravatar_id': '', 'url': 'https://api.github.com/users/SaraPazo', 'html_url': 'https://github.com/SaraPazo', 'followers_url': 'https://api.github.com/users/SaraPazo/followers', 'following_url': 'https://api.github.com/users/SaraPazo/following{/other_user}', 'gists_url': 'https://api.github.com/users/SaraPazo/gists{/gist_id}', 'starred_url': 'https://api.github.com/users/SaraPazo/starred{/owner}{/repo}', 'subscriptions_url': 'https://api.github.com/users/SaraPazo/subscriptions', 'organizations_url': 'https://api.github.com/users/SaraPazo/orgs', 'repos_url': 'https://api.github.com/users/SaraPazo/repos', 'events_url': 'https://api.github.com/users/SaraPazo/events{/privacy}', 'received_events_url': 'https://api.github.com/users/SaraPazo/received_events', 'type': 'User', 'site_admin': False}, 'html_url': 'https://github.com/SaraPazo/Project_SQL-', 'description': None, 'fork': False, 'url': 'https://api.github.com/repos/SaraPazo/Project_SQL-', 'forks_url': 'https://api.github.com/repos/SaraPazo/Project_SQL-/forks', 'keys_url': 'https://api.github.com/repos/SaraPazo/Project_SQL-/keys{/key_id}', 'collaborators_url': 'https://api.github.com/repos/SaraPazo/Project_SQL-/collaborators{/collaborator}', 'teams_url': 'https://api.github.com/repos/SaraPazo/Project_SQL-/teams', 'hooks_url': 'https://api.github.com/repos/SaraPazo/Project_SQL-/hooks', 'issue_events_url': 'https://api.github.com/repos/SaraPazo/Project_SQL-/issues/events{/number}', 'events_url': 'https://api.github.com/repos/SaraPazo/Project_SQL-/events', 'assignees_url': 'https://api.github.com/repos/SaraPazo/Project_SQL-/assignees{/user}', 'branches_url': 'https://api.github.com/repos/SaraPazo/Project_SQL-/branches{/branch}', 'tags_url': 'https://api.github.com/repos/SaraPazo/Project_SQL-/tags', 'blobs_url': 'https://api.github.com/repos/SaraPazo/Project_SQL-/git/blobs{/sha}', 'git_tags_url': 'https://api.github.com/repos/SaraPazo/Project_SQL-/git/tags{/sha}', 'git_refs_url': 'https://api.github.com/repos/SaraPazo/Project_SQL-/git/refs{/sha}', 'trees_url': 'https://api.github.com/repos/SaraPazo/Project_SQL-/git/trees{/sha}', 'statuses_url': 'https://api.github.com/repos/SaraPazo/Project_SQL-/statuses/{sha}', 'languages_url': 'https://api.github.com/repos/SaraPazo/Project_SQL-/languages', 'stargazers_url': 'https://api.github.com/repos/SaraPazo/Project_SQL-/stargazers', 'contributors_url': 'https://api.github.com/repos/SaraPazo/Project_SQL-/contributors', 'subscribers_url': 'https://api.github.com/repos/SaraPazo/Project_SQL-/subscribers', 'subscription_url': 'https://api.github.com/repos/SaraPazo/Project_SQL-/subscription', 'commits_url': 'https://api.github.com/repos/SaraPazo/Project_SQL-/commits{/sha}', 'git_commits_url': 'https://api.github.com/repos/SaraPazo/Project_SQL-/git/commits{/sha}', 'comments_url': 'https://api.github.com/repos/SaraPazo/Project_SQL-/comments{/number}', 'issue_comment_url': 'https://api.github.com/repos/SaraPazo/Project_SQL-/issues/comments{/number}', 'contents_url': 'https://api.github.com/repos/SaraPazo/Project_SQL-/contents/{+path}', 'compare_url': 'https://api.github.com/repos/SaraPazo/Project_SQL-/compare/{base}...{head}', 'merges_url': 'https://api.github.com/repos/SaraPazo/Project_SQL-/merges', 'archive_url': 'https://api.github.com/repos/SaraPazo/Project_SQL-/{archive_format}{/ref}', 'downloads_url': 'https://api.github.com/repos/SaraPazo/Project_SQL-/downloads', 'issues_url': 'https://api.github.com/repos/SaraPazo/Project_SQL-/issues{/number}', 'pulls_url': 'https://api.github.com/repos/SaraPazo/Project_SQL-/pulls{/number}', 'milestones_url': 'https://api.github.com/repos/SaraPazo/Project_SQL-/milestones{/number}', 'notifications_url': 'https://api.github.com/repos/SaraPazo/Project_SQL-/notifications{?since,all,participating}', 'labels_url': 'https://api.github.com/repos/SaraPazo/Project_SQL-/labels{/name}', 'releases_url': 'https://api.github.com/repos/SaraPazo/Project_SQL-/releases{/id}', 'deployments_url': 'https://api.github.com/repos/SaraPazo/Project_SQL-/deployments', 'created_at': '2023-10-27T07:18:31Z', 'updated_at': '2023-10-27T12:14:22Z', 'pushed_at': '2023-10-31T08:49:44Z', 'git_url': 'git://github.com/SaraPazo/Project_SQL-.git', 'ssh_url': 'git@github.com:SaraPazo/Project_SQL-.git', 'clone_url': 'https://github.com/SaraPazo/Project_SQL-.git', 'svn_url': 'https://github.com/SaraPazo/Project_SQL-', 'homepage': None, 'size': 1125, 'stargazers_count': 0, 'watchers_count': 0, 'language': 'Jupyter Notebook', 'has_issues': True, 'has_projects': True, 'has_downloads': True, 'has_wiki': True, 'has_pages': False, 'has_discussions': False, 'forks_count': 0, 'mirror_url': None, 'archived': False, 'disabled': False, 'open_issues_count': 0, 'license': None, 'allow_forking': True, 'is_template': False, 'web_commit_signoff_required': False, 'topics': [], 'visibility': 'public', 'forks': 0, 'open_issues': 0, 'watchers': 0, 'default_branch': 'main', 'permissions': {'admin': True, 'maintain': True, 'push': True, 'triage': True, 'pull': True}}\n"
     ]
    }
   ],
   "source": [
    "# Check the HTTP status code to ensure the request was successful\n",
    "\n",
    "if response.status_code == 200:\n",
    "\n",
    "    # If the status code is 200, it means the request was successful\n",
    "\n",
    "    data = response.json()  # Convert the JSON response to a Python object\n",
    "    print(\"Request was successful.\")\n",
    "    \n",
    "    for item in data:\n",
    "        # Process each item in the list, assuming it's a JSON object\n",
    "        print(f\"Item: {item}\")\n",
    "else:\n",
    "    # If the status code is not 200, there was an issue with the request\n",
    "    print(f\"Request failed with status code: {response.status_code}\")\n",
    "    print(f\"Response content: {response.text}\")"
   ]
  },
  {
   "cell_type": "code",
   "execution_count": 22,
   "id": "6d8c6690",
   "metadata": {},
   "outputs": [
    {
     "name": "stdout",
     "output_type": "stream",
     "text": [
      "Número de confirmaciones la semana pasada: 25\n"
     ]
    }
   ],
   "source": [
    "response = req.get(url_mirepo, headers=headers)\n",
    "\n",
    "if response.status_code == 200:\n",
    "    \n",
    "    commits_json = response.json()  # Convierte la respuesta en formato JSON\n",
    "    numero_de_confirmaciones = len(commits_json)  # Cuenta las confirmaciones en la matriz\n",
    "    \n",
    "    print(f'Número de confirmaciones la semana pasada: {numero_de_confirmaciones}')\n",
    "else:\n",
    "    print(f'Error al obtener los datos. Código de respuesta: {response.status_code}')"
   ]
  }
 ],
 "metadata": {
  "kernelspec": {
   "display_name": "Python 3 (ipykernel)",
   "language": "python",
   "name": "python3"
  },
  "language_info": {
   "codemirror_mode": {
    "name": "ipython",
    "version": 3
   },
   "file_extension": ".py",
   "mimetype": "text/x-python",
   "name": "python",
   "nbconvert_exporter": "python",
   "pygments_lexer": "ipython3",
   "version": "3.11.4"
  },
  "toc": {
   "base_numbering": 1,
   "nav_menu": {},
   "number_sections": true,
   "sideBar": true,
   "skip_h1_title": true,
   "title_cell": "Table of Contents",
   "title_sidebar": "Contents",
   "toc_cell": false,
   "toc_position": {
    "height": "calc(100% - 180px)",
    "left": "10px",
    "top": "150px",
    "width": "288px"
   },
   "toc_section_display": true,
   "toc_window_display": true
  }
 },
 "nbformat": 4,
 "nbformat_minor": 5
}
